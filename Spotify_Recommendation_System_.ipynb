{
 "cells": [
  {
   "cell_type": "markdown",
   "metadata": {
    "colab_type": "text",
    "id": "view-in-github"
   },
   "source": [
    "[View in Colaboratory](https://colab.research.google.com/github/ucalyptus/Spotify-Recommendation-Engine/blob/master/Spotify_Recommendation_System_.ipynb)"
   ]
  },
  {
   "cell_type": "code",
   "execution_count": 1,
   "metadata": {
    "colab": {
     "base_uri": "https://localhost:8080/",
     "height": 119
    },
    "colab_type": "code",
    "id": "LUBdOIn5irHS",
    "outputId": "cf3771a3-0820-470a-d19b-f19a56db8d23",
    "scrolled": true
   },
   "outputs": [
    {
     "name": "stdout",
     "output_type": "stream",
     "text": [
      "Requirement already satisfied: spotipy in c:\\users\\asus\\anaconda3\\lib\\site-packages (2.13.0)\n",
      "Requirement already satisfied: requests>=2.20.0 in c:\\users\\asus\\anaconda3\\lib\\site-packages (from spotipy) (2.22.0)\n",
      "Requirement already satisfied: six>=1.10.0 in c:\\users\\asus\\anaconda3\\lib\\site-packages (from spotipy) (1.14.0)\n",
      "Requirement already satisfied: idna<2.9,>=2.5 in c:\\users\\asus\\anaconda3\\lib\\site-packages (from requests>=2.20.0->spotipy) (2.8)\n",
      "Requirement already satisfied: chardet<3.1.0,>=3.0.2 in c:\\users\\asus\\anaconda3\\lib\\site-packages (from requests>=2.20.0->spotipy) (3.0.4)\n",
      "Requirement already satisfied: urllib3!=1.25.0,!=1.25.1,<1.26,>=1.21.1 in c:\\users\\asus\\anaconda3\\lib\\site-packages (from requests>=2.20.0->spotipy) (1.25.8)\n",
      "Requirement already satisfied: certifi>=2017.4.17 in c:\\users\\asus\\anaconda3\\lib\\site-packages (from requests>=2.20.0->spotipy) (2019.11.28)\n"
     ]
    }
   ],
   "source": [
    "!pip install spotipy"
   ]
  },
  {
   "cell_type": "markdown",
   "metadata": {
    "colab_type": "text",
    "id": "Uh7PhpFWkcVg"
   },
   "source": [
    "Client ID ffbef2bcb4b84e80b3a0039a2906cb01\n",
    "\n",
    "Client Secret 6c57daa1247f4abe96f38635d38869a0\n",
    "\n",
    "Redirect URI https://developer.spotify.com/dashboard/applications/ffbef2bcb4b84e80b3a0039a2906cb01"
   ]
  },
  {
   "cell_type": "code",
   "execution_count": 1,
   "metadata": {
    "colab": {},
    "colab_type": "code",
    "id": "CQiyBuLziyEI"
   },
   "outputs": [],
   "source": [
    "import spotipy\n",
    "from spotipy.oauth2 import SpotifyClientCredentials\n",
    "import spotipy.util as util"
   ]
  },
  {
   "cell_type": "code",
   "execution_count": 2,
   "metadata": {
    "colab": {},
    "colab_type": "code",
    "id": "Xo3x51nrk48s"
   },
   "outputs": [],
   "source": [
    "cid = 'ffbef2bcb4b84e80b3a0039a2906cb01'\n",
    "secret = '6c57daa1247f4abe96f38635d38869a0'\n",
    "username = '31fcf75braqovpjvblva32z3aq5e'\n",
    "redirect_uri = 'https://developer.spotify.com/dashboard/applications/ffbef2bcb4b84e80b3a0039a2906cb01'\n"
   ]
  },
  {
   "cell_type": "code",
   "execution_count": 3,
   "metadata": {
    "colab": {},
    "colab_type": "code",
    "id": "6wqoMOuOlf52"
   },
   "outputs": [],
   "source": [
    "scope = 'user-library-read playlist-modify-public playlist-read-private'\n",
    "\n",
    "client_credentials_manager = SpotifyClientCredentials(client_id = cid, client_secret=secret)\n",
    "\n",
    "sp = spotipy.Spotify(client_credentials_manager= client_credentials_manager)\n",
    "\n",
    "token = util.prompt_for_user_token(username,scope,cid,secret,redirect_uri)\n",
    "\n",
    "if token:\n",
    "  sp = spotipy.Spotify(auth=token)\n",
    "  \n",
    "else:\n",
    "  print(\"Can't get token for\", username)"
   ]
  },
  {
   "cell_type": "code",
   "execution_count": 5,
   "metadata": {
    "colab": {},
    "colab_type": "code",
    "id": "WxaTn9mLmcqZ"
   },
   "outputs": [],
   "source": [
    "import pandas as pd\n",
    "\n",
    "#https://open.spotify.com/user/francocasadei/playlist/6aWL6tZgIycyz98WgigfsG\n",
    "sourcePlaylistID = '6aWL6tZgIycyz98WgigfsG'\n",
    "sourcePlaylist = sp.user_playlist(username,sourcePlaylistID);\n",
    "tracks = sourcePlaylist[\"tracks\"];\n",
    "songs = tracks[\"items\"];\n",
    "\n",
    "track_ids = []\n",
    "track_names = []\n",
    "\n",
    "\n",
    "for i in range(0, len(songs)):\n",
    "  if songs[i]['track']['id']!=None:\n",
    "    track_ids.append(songs[i]['track']['id'])\n",
    "    track_names.append(songs[i]['track']['name'])\n",
    "    \n",
    "features = []\n",
    "\n",
    "\n",
    "for i in range(0,len(track_ids)):\n",
    "  audio_features  = sp.audio_features(track_ids[i])\n",
    "  for track in audio_features:\n",
    "    features.append(track)\n",
    "    \n",
    "    \n",
    "playlist_df = pd.DataFrame(features,index = track_names)"
   ]
  },
  {
   "cell_type": "code",
   "execution_count": 6,
   "metadata": {
    "colab": {},
    "colab_type": "code",
    "id": "mA3jsda2sk2n"
   },
   "outputs": [],
   "source": [
    "playlist_df = playlist_df[[\"id\", \"acousticness\", \"danceability\", \"duration_ms\", \"energy\", \"instrumentalness\",  \"key\", \"liveness\", \"loudness\", \"mode\", \"speechiness\", \"tempo\", \"valence\"]]"
   ]
  },
  {
   "cell_type": "code",
   "execution_count": 7,
   "metadata": {
    "colab": {
     "base_uri": "https://localhost:8080/",
     "height": 34
    },
    "colab_type": "code",
    "id": "oHA0fckEtZ9u",
    "outputId": "a54775ec-418f-4e34-ee12-065ee275c86d"
   },
   "outputs": [
    {
     "data": {
      "text/plain": [
       "(26, 13)"
      ]
     },
     "execution_count": 7,
     "metadata": {},
     "output_type": "execute_result"
    }
   ],
   "source": [
    "playlist_df.shape"
   ]
  },
  {
   "cell_type": "code",
   "execution_count": 8,
   "metadata": {
    "colab": {},
    "colab_type": "code",
    "id": "cJBLzEg_twFM"
   },
   "outputs": [],
   "source": [
    "playlist_df['ratings']=[(i*i)%11 for i in range(len(playlist_df))]"
   ]
  },
  {
   "cell_type": "code",
   "execution_count": 9,
   "metadata": {
    "colab": {
     "base_uri": "https://localhost:8080/",
     "height": 1017
    },
    "colab_type": "code",
    "id": "ZO9-WVjnuR-F",
    "outputId": "12570c48-ebd2-4933-b4fc-05dd135b701b"
   },
   "outputs": [
    {
     "data": {
      "text/html": [
       "<div>\n",
       "<style scoped>\n",
       "    .dataframe tbody tr th:only-of-type {\n",
       "        vertical-align: middle;\n",
       "    }\n",
       "\n",
       "    .dataframe tbody tr th {\n",
       "        vertical-align: top;\n",
       "    }\n",
       "\n",
       "    .dataframe thead th {\n",
       "        text-align: right;\n",
       "    }\n",
       "</style>\n",
       "<table border=\"1\" class=\"dataframe\">\n",
       "  <thead>\n",
       "    <tr style=\"text-align: right;\">\n",
       "      <th></th>\n",
       "      <th>id</th>\n",
       "      <th>acousticness</th>\n",
       "      <th>danceability</th>\n",
       "      <th>duration_ms</th>\n",
       "      <th>energy</th>\n",
       "      <th>instrumentalness</th>\n",
       "      <th>key</th>\n",
       "      <th>liveness</th>\n",
       "      <th>loudness</th>\n",
       "      <th>mode</th>\n",
       "      <th>speechiness</th>\n",
       "      <th>tempo</th>\n",
       "      <th>valence</th>\n",
       "      <th>ratings</th>\n",
       "    </tr>\n",
       "  </thead>\n",
       "  <tbody>\n",
       "    <tr>\n",
       "      <th>Losers</th>\n",
       "      <td>1bAvtmTl0F9loyz9AwPwp7</td>\n",
       "      <td>0.03550</td>\n",
       "      <td>0.666</td>\n",
       "      <td>281147</td>\n",
       "      <td>0.485</td>\n",
       "      <td>0.000599</td>\n",
       "      <td>0</td>\n",
       "      <td>0.5040</td>\n",
       "      <td>-9.850</td>\n",
       "      <td>0</td>\n",
       "      <td>0.0530</td>\n",
       "      <td>91.007</td>\n",
       "      <td>0.2870</td>\n",
       "      <td>0</td>\n",
       "    </tr>\n",
       "    <tr>\n",
       "      <th>Tell Your Friends</th>\n",
       "      <td>1mhVXWduD8ReDwusfaHNwU</td>\n",
       "      <td>0.26500</td>\n",
       "      <td>0.583</td>\n",
       "      <td>334333</td>\n",
       "      <td>0.454</td>\n",
       "      <td>0.000000</td>\n",
       "      <td>1</td>\n",
       "      <td>0.1810</td>\n",
       "      <td>-11.091</td>\n",
       "      <td>0</td>\n",
       "      <td>0.0425</td>\n",
       "      <td>74.640</td>\n",
       "      <td>0.3090</td>\n",
       "      <td>1</td>\n",
       "    </tr>\n",
       "    <tr>\n",
       "      <th>Often</th>\n",
       "      <td>4PhsKqMdgMEUSstTDAmMpg</td>\n",
       "      <td>0.22200</td>\n",
       "      <td>0.572</td>\n",
       "      <td>249040</td>\n",
       "      <td>0.631</td>\n",
       "      <td>0.000000</td>\n",
       "      <td>7</td>\n",
       "      <td>0.1350</td>\n",
       "      <td>-9.836</td>\n",
       "      <td>0</td>\n",
       "      <td>0.0476</td>\n",
       "      <td>134.078</td>\n",
       "      <td>0.0713</td>\n",
       "      <td>4</td>\n",
       "    </tr>\n",
       "    <tr>\n",
       "      <th>The Hills</th>\n",
       "      <td>7fBv7CLKzipRk6EC6TWHOB</td>\n",
       "      <td>0.06710</td>\n",
       "      <td>0.585</td>\n",
       "      <td>242253</td>\n",
       "      <td>0.564</td>\n",
       "      <td>0.000000</td>\n",
       "      <td>0</td>\n",
       "      <td>0.1350</td>\n",
       "      <td>-7.063</td>\n",
       "      <td>0</td>\n",
       "      <td>0.0515</td>\n",
       "      <td>113.003</td>\n",
       "      <td>0.1370</td>\n",
       "      <td>9</td>\n",
       "    </tr>\n",
       "    <tr>\n",
       "      <th>Acquainted</th>\n",
       "      <td>7uJH0YdSZL6psjxI6Xy08b</td>\n",
       "      <td>0.48200</td>\n",
       "      <td>0.372</td>\n",
       "      <td>348853</td>\n",
       "      <td>0.478</td>\n",
       "      <td>0.000000</td>\n",
       "      <td>7</td>\n",
       "      <td>0.0844</td>\n",
       "      <td>-9.835</td>\n",
       "      <td>0</td>\n",
       "      <td>0.0503</td>\n",
       "      <td>101.102</td>\n",
       "      <td>0.2540</td>\n",
       "      <td>5</td>\n",
       "    </tr>\n",
       "    <tr>\n",
       "      <th>Can't Feel My Face</th>\n",
       "      <td>22VdIZQfgXJea34mQxlt81</td>\n",
       "      <td>0.11300</td>\n",
       "      <td>0.705</td>\n",
       "      <td>213520</td>\n",
       "      <td>0.769</td>\n",
       "      <td>0.000000</td>\n",
       "      <td>9</td>\n",
       "      <td>0.1050</td>\n",
       "      <td>-5.526</td>\n",
       "      <td>0</td>\n",
       "      <td>0.0425</td>\n",
       "      <td>107.949</td>\n",
       "      <td>0.5830</td>\n",
       "      <td>3</td>\n",
       "    </tr>\n",
       "    <tr>\n",
       "      <th>Shameless</th>\n",
       "      <td>6C6fHTuFUxVtJpBOOaMvJr</td>\n",
       "      <td>0.14700</td>\n",
       "      <td>0.603</td>\n",
       "      <td>253507</td>\n",
       "      <td>0.563</td>\n",
       "      <td>0.000000</td>\n",
       "      <td>6</td>\n",
       "      <td>0.1090</td>\n",
       "      <td>-8.313</td>\n",
       "      <td>1</td>\n",
       "      <td>0.0270</td>\n",
       "      <td>100.060</td>\n",
       "      <td>0.2340</td>\n",
       "      <td>3</td>\n",
       "    </tr>\n",
       "    <tr>\n",
       "      <th>Earned It (Fifty Shades Of Grey)</th>\n",
       "      <td>4frLb7nWtsz2ymBE6k2GRP</td>\n",
       "      <td>0.40500</td>\n",
       "      <td>0.659</td>\n",
       "      <td>277680</td>\n",
       "      <td>0.291</td>\n",
       "      <td>0.000000</td>\n",
       "      <td>2</td>\n",
       "      <td>0.0771</td>\n",
       "      <td>-8.275</td>\n",
       "      <td>0</td>\n",
       "      <td>0.0348</td>\n",
       "      <td>119.829</td>\n",
       "      <td>0.4060</td>\n",
       "      <td>5</td>\n",
       "    </tr>\n",
       "    <tr>\n",
       "      <th>In The Night</th>\n",
       "      <td>25KybV9BOUlvcnv7nN3Pyo</td>\n",
       "      <td>0.07960</td>\n",
       "      <td>0.505</td>\n",
       "      <td>235653</td>\n",
       "      <td>0.680</td>\n",
       "      <td>0.000000</td>\n",
       "      <td>7</td>\n",
       "      <td>0.0465</td>\n",
       "      <td>-4.993</td>\n",
       "      <td>1</td>\n",
       "      <td>0.0714</td>\n",
       "      <td>168.022</td>\n",
       "      <td>0.5390</td>\n",
       "      <td>9</td>\n",
       "    </tr>\n",
       "    <tr>\n",
       "      <th>As You Are</th>\n",
       "      <td>3H3qBumaYj67PT3aMEBvAP</td>\n",
       "      <td>0.13100</td>\n",
       "      <td>0.377</td>\n",
       "      <td>340493</td>\n",
       "      <td>0.329</td>\n",
       "      <td>0.006540</td>\n",
       "      <td>0</td>\n",
       "      <td>0.2790</td>\n",
       "      <td>-9.670</td>\n",
       "      <td>0</td>\n",
       "      <td>0.0569</td>\n",
       "      <td>173.663</td>\n",
       "      <td>0.0528</td>\n",
       "      <td>4</td>\n",
       "    </tr>\n",
       "    <tr>\n",
       "      <th>Dark Times</th>\n",
       "      <td>6J7PIkhtHwmFjPLq0SyuPj</td>\n",
       "      <td>0.11600</td>\n",
       "      <td>0.501</td>\n",
       "      <td>260640</td>\n",
       "      <td>0.403</td>\n",
       "      <td>0.000010</td>\n",
       "      <td>7</td>\n",
       "      <td>0.1240</td>\n",
       "      <td>-9.611</td>\n",
       "      <td>1</td>\n",
       "      <td>0.0747</td>\n",
       "      <td>132.608</td>\n",
       "      <td>0.2700</td>\n",
       "      <td>1</td>\n",
       "    </tr>\n",
       "    <tr>\n",
       "      <th>Prisoner</th>\n",
       "      <td>1gZADNt16Oh23jWyMYRk4p</td>\n",
       "      <td>0.44300</td>\n",
       "      <td>0.551</td>\n",
       "      <td>274960</td>\n",
       "      <td>0.405</td>\n",
       "      <td>0.000217</td>\n",
       "      <td>0</td>\n",
       "      <td>0.1100</td>\n",
       "      <td>-12.756</td>\n",
       "      <td>0</td>\n",
       "      <td>0.0398</td>\n",
       "      <td>135.017</td>\n",
       "      <td>0.3410</td>\n",
       "      <td>0</td>\n",
       "    </tr>\n",
       "    <tr>\n",
       "      <th>Angel</th>\n",
       "      <td>0wzPHTgOtFIDhk2rD3Au4x</td>\n",
       "      <td>0.10500</td>\n",
       "      <td>0.626</td>\n",
       "      <td>377347</td>\n",
       "      <td>0.583</td>\n",
       "      <td>0.000000</td>\n",
       "      <td>10</td>\n",
       "      <td>0.1150</td>\n",
       "      <td>-7.574</td>\n",
       "      <td>0</td>\n",
       "      <td>0.0435</td>\n",
       "      <td>127.966</td>\n",
       "      <td>0.3350</td>\n",
       "      <td>1</td>\n",
       "    </tr>\n",
       "    <tr>\n",
       "      <th>Switch</th>\n",
       "      <td>29ZZAShKhwRUuKULSNtxX6</td>\n",
       "      <td>0.04090</td>\n",
       "      <td>0.660</td>\n",
       "      <td>207071</td>\n",
       "      <td>0.658</td>\n",
       "      <td>0.005950</td>\n",
       "      <td>7</td>\n",
       "      <td>0.1020</td>\n",
       "      <td>-6.127</td>\n",
       "      <td>1</td>\n",
       "      <td>0.0387</td>\n",
       "      <td>176.701</td>\n",
       "      <td>0.1530</td>\n",
       "      <td>4</td>\n",
       "    </tr>\n",
       "    <tr>\n",
       "      <th>OTW</th>\n",
       "      <td>6Hgh47WXVKtXN5zGOu0hjI</td>\n",
       "      <td>0.18300</td>\n",
       "      <td>0.652</td>\n",
       "      <td>263014</td>\n",
       "      <td>0.678</td>\n",
       "      <td>0.000033</td>\n",
       "      <td>2</td>\n",
       "      <td>0.1060</td>\n",
       "      <td>-6.183</td>\n",
       "      <td>1</td>\n",
       "      <td>0.0541</td>\n",
       "      <td>72.989</td>\n",
       "      <td>0.2800</td>\n",
       "      <td>9</td>\n",
       "    </tr>\n",
       "    <tr>\n",
       "      <th>Real Life</th>\n",
       "      <td>03j354P848KtNU2FVSwkDG</td>\n",
       "      <td>0.43900</td>\n",
       "      <td>0.581</td>\n",
       "      <td>223373</td>\n",
       "      <td>0.652</td>\n",
       "      <td>0.000000</td>\n",
       "      <td>11</td>\n",
       "      <td>0.3510</td>\n",
       "      <td>-5.039</td>\n",
       "      <td>0</td>\n",
       "      <td>0.0496</td>\n",
       "      <td>90.634</td>\n",
       "      <td>0.3580</td>\n",
       "      <td>5</td>\n",
       "    </tr>\n",
       "    <tr>\n",
       "      <th>Pretty</th>\n",
       "      <td>0ei3uNcwJOiUocuks1vWcb</td>\n",
       "      <td>0.03550</td>\n",
       "      <td>0.580</td>\n",
       "      <td>375400</td>\n",
       "      <td>0.685</td>\n",
       "      <td>0.000034</td>\n",
       "      <td>11</td>\n",
       "      <td>0.3150</td>\n",
       "      <td>-6.829</td>\n",
       "      <td>0</td>\n",
       "      <td>0.0394</td>\n",
       "      <td>125.968</td>\n",
       "      <td>0.3310</td>\n",
       "      <td>3</td>\n",
       "    </tr>\n",
       "    <tr>\n",
       "      <th>Hotline Bling</th>\n",
       "      <td>0wwPcA6wtMf6HUMpIRdeP7</td>\n",
       "      <td>0.00258</td>\n",
       "      <td>0.891</td>\n",
       "      <td>267067</td>\n",
       "      <td>0.628</td>\n",
       "      <td>0.000190</td>\n",
       "      <td>2</td>\n",
       "      <td>0.0504</td>\n",
       "      <td>-7.863</td>\n",
       "      <td>1</td>\n",
       "      <td>0.0551</td>\n",
       "      <td>134.966</td>\n",
       "      <td>0.5520</td>\n",
       "      <td>3</td>\n",
       "    </tr>\n",
       "    <tr>\n",
       "      <th>The Morning</th>\n",
       "      <td>6u0dQik0aif7FQlrhycG1L</td>\n",
       "      <td>0.31700</td>\n",
       "      <td>0.652</td>\n",
       "      <td>312427</td>\n",
       "      <td>0.549</td>\n",
       "      <td>0.000000</td>\n",
       "      <td>6</td>\n",
       "      <td>0.1040</td>\n",
       "      <td>-7.555</td>\n",
       "      <td>0</td>\n",
       "      <td>0.0390</td>\n",
       "      <td>120.073</td>\n",
       "      <td>0.1860</td>\n",
       "      <td>5</td>\n",
       "    </tr>\n",
       "    <tr>\n",
       "      <th>High For This</th>\n",
       "      <td>5fohLPNqO6TqwrZ7BoUWUT</td>\n",
       "      <td>0.74400</td>\n",
       "      <td>0.465</td>\n",
       "      <td>247227</td>\n",
       "      <td>0.403</td>\n",
       "      <td>0.000667</td>\n",
       "      <td>11</td>\n",
       "      <td>0.0777</td>\n",
       "      <td>-8.895</td>\n",
       "      <td>0</td>\n",
       "      <td>0.0755</td>\n",
       "      <td>74.950</td>\n",
       "      <td>0.0687</td>\n",
       "      <td>9</td>\n",
       "    </tr>\n",
       "    <tr>\n",
       "      <th>Wicked Games</th>\n",
       "      <td>6VwBbL8CzPiC4QV66ay7oR</td>\n",
       "      <td>0.00959</td>\n",
       "      <td>0.658</td>\n",
       "      <td>323747</td>\n",
       "      <td>0.591</td>\n",
       "      <td>0.000005</td>\n",
       "      <td>9</td>\n",
       "      <td>0.3250</td>\n",
       "      <td>-5.197</td>\n",
       "      <td>1</td>\n",
       "      <td>0.0309</td>\n",
       "      <td>114.078</td>\n",
       "      <td>0.3260</td>\n",
       "      <td>4</td>\n",
       "    </tr>\n",
       "    <tr>\n",
       "      <th>Kiss Land</th>\n",
       "      <td>5idmfDT06TjCQ1SPDsa5qh</td>\n",
       "      <td>0.04150</td>\n",
       "      <td>0.324</td>\n",
       "      <td>455333</td>\n",
       "      <td>0.852</td>\n",
       "      <td>0.000000</td>\n",
       "      <td>11</td>\n",
       "      <td>0.0610</td>\n",
       "      <td>-6.675</td>\n",
       "      <td>0</td>\n",
       "      <td>0.1090</td>\n",
       "      <td>121.881</td>\n",
       "      <td>0.4000</td>\n",
       "      <td>1</td>\n",
       "    </tr>\n",
       "    <tr>\n",
       "      <th>Desire - Gryffin Remix</th>\n",
       "      <td>6JzCO4ZzxAXhY86vTcqM1Q</td>\n",
       "      <td>0.06060</td>\n",
       "      <td>0.543</td>\n",
       "      <td>268840</td>\n",
       "      <td>0.876</td>\n",
       "      <td>0.000000</td>\n",
       "      <td>10</td>\n",
       "      <td>0.1570</td>\n",
       "      <td>-5.069</td>\n",
       "      <td>0</td>\n",
       "      <td>0.0512</td>\n",
       "      <td>122.058</td>\n",
       "      <td>0.4150</td>\n",
       "      <td>0</td>\n",
       "    </tr>\n",
       "    <tr>\n",
       "      <th>King</th>\n",
       "      <td>5Z3zRrMIJk7CVpfcLsM9wD</td>\n",
       "      <td>0.05940</td>\n",
       "      <td>0.560</td>\n",
       "      <td>215360</td>\n",
       "      <td>0.857</td>\n",
       "      <td>0.000000</td>\n",
       "      <td>4</td>\n",
       "      <td>0.3810</td>\n",
       "      <td>-4.145</td>\n",
       "      <td>0</td>\n",
       "      <td>0.0384</td>\n",
       "      <td>119.975</td>\n",
       "      <td>0.4320</td>\n",
       "      <td>1</td>\n",
       "    </tr>\n",
       "    <tr>\n",
       "      <th>wake up</th>\n",
       "      <td>1qIuzMdRW3QdbOWZFXanqT</td>\n",
       "      <td>0.35700</td>\n",
       "      <td>0.854</td>\n",
       "      <td>291130</td>\n",
       "      <td>0.339</td>\n",
       "      <td>0.000000</td>\n",
       "      <td>10</td>\n",
       "      <td>0.0573</td>\n",
       "      <td>-8.152</td>\n",
       "      <td>1</td>\n",
       "      <td>0.0619</td>\n",
       "      <td>115.007</td>\n",
       "      <td>0.3410</td>\n",
       "      <td>4</td>\n",
       "    </tr>\n",
       "    <tr>\n",
       "      <th>I Don't Need Ya (feat. Skippa Da Flippa &amp; Sancho)</th>\n",
       "      <td>3W4B69HN0YEopiISW9ny27</td>\n",
       "      <td>0.02740</td>\n",
       "      <td>0.757</td>\n",
       "      <td>164589</td>\n",
       "      <td>0.612</td>\n",
       "      <td>0.000000</td>\n",
       "      <td>10</td>\n",
       "      <td>0.1240</td>\n",
       "      <td>-7.230</td>\n",
       "      <td>0</td>\n",
       "      <td>0.1310</td>\n",
       "      <td>140.058</td>\n",
       "      <td>0.3500</td>\n",
       "      <td>9</td>\n",
       "    </tr>\n",
       "  </tbody>\n",
       "</table>\n",
       "</div>"
      ],
      "text/plain": [
       "                                                                       id  \\\n",
       "Losers                                             1bAvtmTl0F9loyz9AwPwp7   \n",
       "Tell Your Friends                                  1mhVXWduD8ReDwusfaHNwU   \n",
       "Often                                              4PhsKqMdgMEUSstTDAmMpg   \n",
       "The Hills                                          7fBv7CLKzipRk6EC6TWHOB   \n",
       "Acquainted                                         7uJH0YdSZL6psjxI6Xy08b   \n",
       "Can't Feel My Face                                 22VdIZQfgXJea34mQxlt81   \n",
       "Shameless                                          6C6fHTuFUxVtJpBOOaMvJr   \n",
       "Earned It (Fifty Shades Of Grey)                   4frLb7nWtsz2ymBE6k2GRP   \n",
       "In The Night                                       25KybV9BOUlvcnv7nN3Pyo   \n",
       "As You Are                                         3H3qBumaYj67PT3aMEBvAP   \n",
       "Dark Times                                         6J7PIkhtHwmFjPLq0SyuPj   \n",
       "Prisoner                                           1gZADNt16Oh23jWyMYRk4p   \n",
       "Angel                                              0wzPHTgOtFIDhk2rD3Au4x   \n",
       "Switch                                             29ZZAShKhwRUuKULSNtxX6   \n",
       "OTW                                                6Hgh47WXVKtXN5zGOu0hjI   \n",
       "Real Life                                          03j354P848KtNU2FVSwkDG   \n",
       "Pretty                                             0ei3uNcwJOiUocuks1vWcb   \n",
       "Hotline Bling                                      0wwPcA6wtMf6HUMpIRdeP7   \n",
       "The Morning                                        6u0dQik0aif7FQlrhycG1L   \n",
       "High For This                                      5fohLPNqO6TqwrZ7BoUWUT   \n",
       "Wicked Games                                       6VwBbL8CzPiC4QV66ay7oR   \n",
       "Kiss Land                                          5idmfDT06TjCQ1SPDsa5qh   \n",
       "Desire - Gryffin Remix                             6JzCO4ZzxAXhY86vTcqM1Q   \n",
       "King                                               5Z3zRrMIJk7CVpfcLsM9wD   \n",
       "wake up                                            1qIuzMdRW3QdbOWZFXanqT   \n",
       "I Don't Need Ya (feat. Skippa Da Flippa & Sancho)  3W4B69HN0YEopiISW9ny27   \n",
       "\n",
       "                                                   acousticness  danceability  \\\n",
       "Losers                                                  0.03550         0.666   \n",
       "Tell Your Friends                                       0.26500         0.583   \n",
       "Often                                                   0.22200         0.572   \n",
       "The Hills                                               0.06710         0.585   \n",
       "Acquainted                                              0.48200         0.372   \n",
       "Can't Feel My Face                                      0.11300         0.705   \n",
       "Shameless                                               0.14700         0.603   \n",
       "Earned It (Fifty Shades Of Grey)                        0.40500         0.659   \n",
       "In The Night                                            0.07960         0.505   \n",
       "As You Are                                              0.13100         0.377   \n",
       "Dark Times                                              0.11600         0.501   \n",
       "Prisoner                                                0.44300         0.551   \n",
       "Angel                                                   0.10500         0.626   \n",
       "Switch                                                  0.04090         0.660   \n",
       "OTW                                                     0.18300         0.652   \n",
       "Real Life                                               0.43900         0.581   \n",
       "Pretty                                                  0.03550         0.580   \n",
       "Hotline Bling                                           0.00258         0.891   \n",
       "The Morning                                             0.31700         0.652   \n",
       "High For This                                           0.74400         0.465   \n",
       "Wicked Games                                            0.00959         0.658   \n",
       "Kiss Land                                               0.04150         0.324   \n",
       "Desire - Gryffin Remix                                  0.06060         0.543   \n",
       "King                                                    0.05940         0.560   \n",
       "wake up                                                 0.35700         0.854   \n",
       "I Don't Need Ya (feat. Skippa Da Flippa & Sancho)       0.02740         0.757   \n",
       "\n",
       "                                                   duration_ms  energy  \\\n",
       "Losers                                                  281147   0.485   \n",
       "Tell Your Friends                                       334333   0.454   \n",
       "Often                                                   249040   0.631   \n",
       "The Hills                                               242253   0.564   \n",
       "Acquainted                                              348853   0.478   \n",
       "Can't Feel My Face                                      213520   0.769   \n",
       "Shameless                                               253507   0.563   \n",
       "Earned It (Fifty Shades Of Grey)                        277680   0.291   \n",
       "In The Night                                            235653   0.680   \n",
       "As You Are                                              340493   0.329   \n",
       "Dark Times                                              260640   0.403   \n",
       "Prisoner                                                274960   0.405   \n",
       "Angel                                                   377347   0.583   \n",
       "Switch                                                  207071   0.658   \n",
       "OTW                                                     263014   0.678   \n",
       "Real Life                                               223373   0.652   \n",
       "Pretty                                                  375400   0.685   \n",
       "Hotline Bling                                           267067   0.628   \n",
       "The Morning                                             312427   0.549   \n",
       "High For This                                           247227   0.403   \n",
       "Wicked Games                                            323747   0.591   \n",
       "Kiss Land                                               455333   0.852   \n",
       "Desire - Gryffin Remix                                  268840   0.876   \n",
       "King                                                    215360   0.857   \n",
       "wake up                                                 291130   0.339   \n",
       "I Don't Need Ya (feat. Skippa Da Flippa & Sancho)       164589   0.612   \n",
       "\n",
       "                                                   instrumentalness  key  \\\n",
       "Losers                                                     0.000599    0   \n",
       "Tell Your Friends                                          0.000000    1   \n",
       "Often                                                      0.000000    7   \n",
       "The Hills                                                  0.000000    0   \n",
       "Acquainted                                                 0.000000    7   \n",
       "Can't Feel My Face                                         0.000000    9   \n",
       "Shameless                                                  0.000000    6   \n",
       "Earned It (Fifty Shades Of Grey)                           0.000000    2   \n",
       "In The Night                                               0.000000    7   \n",
       "As You Are                                                 0.006540    0   \n",
       "Dark Times                                                 0.000010    7   \n",
       "Prisoner                                                   0.000217    0   \n",
       "Angel                                                      0.000000   10   \n",
       "Switch                                                     0.005950    7   \n",
       "OTW                                                        0.000033    2   \n",
       "Real Life                                                  0.000000   11   \n",
       "Pretty                                                     0.000034   11   \n",
       "Hotline Bling                                              0.000190    2   \n",
       "The Morning                                                0.000000    6   \n",
       "High For This                                              0.000667   11   \n",
       "Wicked Games                                               0.000005    9   \n",
       "Kiss Land                                                  0.000000   11   \n",
       "Desire - Gryffin Remix                                     0.000000   10   \n",
       "King                                                       0.000000    4   \n",
       "wake up                                                    0.000000   10   \n",
       "I Don't Need Ya (feat. Skippa Da Flippa & Sancho)          0.000000   10   \n",
       "\n",
       "                                                   liveness  loudness  mode  \\\n",
       "Losers                                               0.5040    -9.850     0   \n",
       "Tell Your Friends                                    0.1810   -11.091     0   \n",
       "Often                                                0.1350    -9.836     0   \n",
       "The Hills                                            0.1350    -7.063     0   \n",
       "Acquainted                                           0.0844    -9.835     0   \n",
       "Can't Feel My Face                                   0.1050    -5.526     0   \n",
       "Shameless                                            0.1090    -8.313     1   \n",
       "Earned It (Fifty Shades Of Grey)                     0.0771    -8.275     0   \n",
       "In The Night                                         0.0465    -4.993     1   \n",
       "As You Are                                           0.2790    -9.670     0   \n",
       "Dark Times                                           0.1240    -9.611     1   \n",
       "Prisoner                                             0.1100   -12.756     0   \n",
       "Angel                                                0.1150    -7.574     0   \n",
       "Switch                                               0.1020    -6.127     1   \n",
       "OTW                                                  0.1060    -6.183     1   \n",
       "Real Life                                            0.3510    -5.039     0   \n",
       "Pretty                                               0.3150    -6.829     0   \n",
       "Hotline Bling                                        0.0504    -7.863     1   \n",
       "The Morning                                          0.1040    -7.555     0   \n",
       "High For This                                        0.0777    -8.895     0   \n",
       "Wicked Games                                         0.3250    -5.197     1   \n",
       "Kiss Land                                            0.0610    -6.675     0   \n",
       "Desire - Gryffin Remix                               0.1570    -5.069     0   \n",
       "King                                                 0.3810    -4.145     0   \n",
       "wake up                                              0.0573    -8.152     1   \n",
       "I Don't Need Ya (feat. Skippa Da Flippa & Sancho)    0.1240    -7.230     0   \n",
       "\n",
       "                                                   speechiness    tempo  \\\n",
       "Losers                                                  0.0530   91.007   \n",
       "Tell Your Friends                                       0.0425   74.640   \n",
       "Often                                                   0.0476  134.078   \n",
       "The Hills                                               0.0515  113.003   \n",
       "Acquainted                                              0.0503  101.102   \n",
       "Can't Feel My Face                                      0.0425  107.949   \n",
       "Shameless                                               0.0270  100.060   \n",
       "Earned It (Fifty Shades Of Grey)                        0.0348  119.829   \n",
       "In The Night                                            0.0714  168.022   \n",
       "As You Are                                              0.0569  173.663   \n",
       "Dark Times                                              0.0747  132.608   \n",
       "Prisoner                                                0.0398  135.017   \n",
       "Angel                                                   0.0435  127.966   \n",
       "Switch                                                  0.0387  176.701   \n",
       "OTW                                                     0.0541   72.989   \n",
       "Real Life                                               0.0496   90.634   \n",
       "Pretty                                                  0.0394  125.968   \n",
       "Hotline Bling                                           0.0551  134.966   \n",
       "The Morning                                             0.0390  120.073   \n",
       "High For This                                           0.0755   74.950   \n",
       "Wicked Games                                            0.0309  114.078   \n",
       "Kiss Land                                               0.1090  121.881   \n",
       "Desire - Gryffin Remix                                  0.0512  122.058   \n",
       "King                                                    0.0384  119.975   \n",
       "wake up                                                 0.0619  115.007   \n",
       "I Don't Need Ya (feat. Skippa Da Flippa & Sancho)       0.1310  140.058   \n",
       "\n",
       "                                                   valence  ratings  \n",
       "Losers                                              0.2870        0  \n",
       "Tell Your Friends                                   0.3090        1  \n",
       "Often                                               0.0713        4  \n",
       "The Hills                                           0.1370        9  \n",
       "Acquainted                                          0.2540        5  \n",
       "Can't Feel My Face                                  0.5830        3  \n",
       "Shameless                                           0.2340        3  \n",
       "Earned It (Fifty Shades Of Grey)                    0.4060        5  \n",
       "In The Night                                        0.5390        9  \n",
       "As You Are                                          0.0528        4  \n",
       "Dark Times                                          0.2700        1  \n",
       "Prisoner                                            0.3410        0  \n",
       "Angel                                               0.3350        1  \n",
       "Switch                                              0.1530        4  \n",
       "OTW                                                 0.2800        9  \n",
       "Real Life                                           0.3580        5  \n",
       "Pretty                                              0.3310        3  \n",
       "Hotline Bling                                       0.5520        3  \n",
       "The Morning                                         0.1860        5  \n",
       "High For This                                       0.0687        9  \n",
       "Wicked Games                                        0.3260        4  \n",
       "Kiss Land                                           0.4000        1  \n",
       "Desire - Gryffin Remix                              0.4150        0  \n",
       "King                                                0.4320        1  \n",
       "wake up                                             0.3410        4  \n",
       "I Don't Need Ya (feat. Skippa Da Flippa & Sancho)   0.3500        9  "
      ]
     },
     "execution_count": 9,
     "metadata": {},
     "output_type": "execute_result"
    }
   ],
   "source": [
    "playlist_df"
   ]
  },
  {
   "cell_type": "code",
   "execution_count": 10,
   "metadata": {
    "colab": {},
    "colab_type": "code",
    "id": "lQ-PbjSzuUrD"
   },
   "outputs": [],
   "source": [
    "X_train = playlist_df.drop(['id', 'ratings'], axis=1)\n",
    "y_train = playlist_df['ratings']"
   ]
  },
  {
   "cell_type": "code",
   "execution_count": 11,
   "metadata": {
    "colab": {
     "base_uri": "https://localhost:8080/",
     "height": 442
    },
    "colab_type": "code",
    "id": "OG_UdNebud6H",
    "outputId": "6b16b6c9-2860-48e1-c082-7d93bb5154b1"
   },
   "outputs": [
    {
     "data": {
      "image/png": "[encoded data removed]",
      "text/plain": [
       "<Figure size 720x504 with 1 Axes>"
      ]
     },
     "metadata": {
      "image/png": {
       "height": 429,
       "width": 618
      },
      "needs_background": "light"
     },
     "output_type": "display_data"
    }
   ],
   "source": [
    "import numpy as np\n",
    "from sklearn import decomposition\n",
    "from sklearn.preprocessing import StandardScaler\n",
    "import matplotlib.pyplot as plt\n",
    "import seaborn as sns; sns.set(style='white')\n",
    "%matplotlib inline\n",
    "%config InlineBackend.figure_format = 'retina'\n",
    "\n",
    "X_scaled = StandardScaler().fit_transform(X_train)\n",
    "\n",
    "pca = decomposition.PCA().fit(X_scaled)\n",
    "\n",
    "\n",
    "plt.figure(figsize=(10,7))\n",
    "plt.plot(np.cumsum(pca.explained_variance_ratio_),color='k',lw=2)\n",
    "plt.xlabel('Number of components')\n",
    "plt.ylabel('Total explained variance')\n",
    "plt.xlim(0,12)\n",
    "plt.yticks(np.arange(0,1.1,0.1))\n",
    "plt.axvline(8,c='b')\n",
    "plt.axhline(0.95,c='r')\n",
    "plt.show();"
   ]
  },
  {
   "cell_type": "code",
   "execution_count": 21,
   "metadata": {
    "colab": {},
    "colab_type": "code",
    "id": "Te0mkPNLv8O7"
   },
   "outputs": [],
   "source": [
    "# Fit your dataset to the optimal pca\n",
    "pca = decomposition.PCA(n_components=8)\n",
    "X_pca = pca.fit_transform(X_scaled)"
   ]
  },
  {
   "cell_type": "code",
   "execution_count": 22,
   "metadata": {
    "colab": {
     "base_uri": "https://localhost:8080/",
     "height": 34
    },
    "colab_type": "code",
    "id": "Scla3DOowqsA",
    "outputId": "7a54aa1d-aa2b-45eb-9f46-867261bf7ba4"
   },
   "outputs": [
    {
     "data": {
      "text/plain": [
       "(26, 126)"
      ]
     },
     "execution_count": 22,
     "metadata": {},
     "output_type": "execute_result"
    }
   ],
   "source": [
    "from sklearn.feature_extraction.text import TfidfVectorizer\n",
    "v = TfidfVectorizer(sublinear_tf = True, ngram_range=(1,6), max_features=10000)\n",
    "X_names_sparse=v.fit_transform(track_names)\n",
    "X_names_sparse.shape"
   ]
  },
  {
   "cell_type": "code",
   "execution_count": 23,
   "metadata": {
    "colab": {},
    "colab_type": "code",
    "id": "xX3LjfChxDWn"
   },
   "outputs": [],
   "source": [
    "from scipy.sparse import csr_matrix, hstack\n",
    "\n",
    "X_train_last = csr_matrix(hstack([X_pca, X_names_sparse]))"
   ]
  },
  {
   "cell_type": "code",
   "execution_count": 24,
   "metadata": {
    "colab": {},
    "colab_type": "code",
    "id": "yb5E1q6UxKFx"
   },
   "outputs": [],
   "source": [
    "from sklearn.model_selection import StratifiedKFold, GridSearchCV\n",
    "\n",
    "skf = StratifiedKFold(n_splits=2,shuffle=True,random_state=42)"
   ]
  },
  {
   "cell_type": "code",
   "execution_count": 25,
   "metadata": {
    "colab": {
     "base_uri": "https://localhost:8080/",
     "height": 734
    },
    "colab_type": "code",
    "collapsed": true,
    "id": "Pej5Ou65Ca4I",
    "outputId": "63acc604-8638-4492-a418-28e9b74fe1fd"
   },
   "outputs": [
    {
     "name": "stdout",
     "output_type": "stream",
     "text": [
      "Fitting 2 folds for each of 9 candidates, totalling 18 fits\n"
     ]
    },
    {
     "name": "stderr",
     "output_type": "stream",
     "text": [
      "[Parallel(n_jobs=-1)]: Using backend LokyBackend with 12 concurrent workers.\n",
      "[Parallel(n_jobs=-1)]: Done  14 out of  18 | elapsed:    0.1s remaining:    0.0s\n",
      "[Parallel(n_jobs=-1)]: Done  18 out of  18 | elapsed:    0.1s finished\n"
     ]
    },
    {
     "data": {
      "text/plain": [
       "({'n_neighbors': 2}, 0.23076923076923078)"
      ]
     },
     "execution_count": 25,
     "metadata": {},
     "output_type": "execute_result"
    }
   ],
   "source": [
    "from sklearn.neighbors import KNeighborsClassifier\n",
    "\n",
    "knn_params = {'n_neighbors':range(1,10)}\n",
    "knn = KNeighborsClassifier(n_jobs=-1)\n",
    "\n",
    "knn_grid= GridSearchCV(knn,knn_params,cv=skf,n_jobs =-1,verbose=True)\n",
    "knn_grid.fit(X_train_last,y_train)\n",
    "knn_grid.best_params_, knn_grid.best_score_"
   ]
  },
  {
   "cell_type": "code",
   "execution_count": 26,
   "metadata": {
    "colab": {
     "base_uri": "https://localhost:8080/",
     "height": 241
    },
    "colab_type": "code",
    "collapsed": true,
    "id": "mYx2CCdtDO03",
    "outputId": "87296fcb-8388-4238-c543-32f046fb1d10"
   },
   "outputs": [
    {
     "name": "stdout",
     "output_type": "stream",
     "text": [
      "Fitting 2 folds for each of 48 candidates, totalling 96 fits\n"
     ]
    },
    {
     "name": "stderr",
     "output_type": "stream",
     "text": [
      "[Parallel(n_jobs=-1)]: Using backend LokyBackend with 12 concurrent workers.\n",
      "[Parallel(n_jobs=-1)]: Done  26 tasks      | elapsed:    1.3s\n",
      "[Parallel(n_jobs=-1)]: Done  96 out of  96 | elapsed:    3.8s finished\n"
     ]
    },
    {
     "data": {
      "text/plain": [
       "(RandomForestClassifier(bootstrap=True, ccp_alpha=0.0, class_weight=None,\n",
       "                        criterion='gini', max_depth=3, max_features=4,\n",
       "                        max_leaf_nodes=None, max_samples=None,\n",
       "                        min_impurity_decrease=0.0, min_impurity_split=None,\n",
       "                        min_samples_leaf=1, min_samples_split=2,\n",
       "                        min_weight_fraction_leaf=0.0, n_estimators=100,\n",
       "                        n_jobs=-1, oob_score=True, random_state=42, verbose=0,\n",
       "                        warm_start=False),\n",
       " 0.3076923076923077)"
      ]
     },
     "execution_count": 26,
     "metadata": {},
     "output_type": "execute_result"
    }
   ],
   "source": [
    "from sklearn.ensemble import RandomForestClassifier\n",
    "parameters = {'max_features':[4,7,8,10],'min_samples_leaf':[1,3,5,8],'max_depth':[3,5,8]}\n",
    "rfc = RandomForestClassifier(n_estimators=100,random_state=42,n_jobs=-1,oob_score=True)\n",
    "forest_grid = GridSearchCV(rfc,parameters,n_jobs=-1,cv=skf,verbose=1)\n",
    "forest_grid.fit(X_train_last,y_train)\n",
    "forest_grid.best_estimator_ , forest_grid.best_score_"
   ]
  },
  {
   "cell_type": "code",
   "execution_count": 27,
   "metadata": {
    "colab": {
     "base_uri": "https://localhost:8080/",
     "height": 207
    },
    "colab_type": "code",
    "collapsed": true,
    "id": "aQChN_fzLon5",
    "outputId": "c6829f66-ce7b-4844-a493-db3d46fb5db9"
   },
   "outputs": [
    {
     "name": "stdout",
     "output_type": "stream",
     "text": [
      "Fitting 2 folds for each of 150 candidates, totalling 300 fits\n"
     ]
    },
    {
     "name": "stderr",
     "output_type": "stream",
     "text": [
      "[Parallel(n_jobs=-1)]: Using backend LokyBackend with 12 concurrent workers.\n",
      "[Parallel(n_jobs=-1)]: Done  28 tasks      | elapsed:    0.0s\n",
      "[Parallel(n_jobs=-1)]: Done 300 out of 300 | elapsed:    0.3s finished\n"
     ]
    },
    {
     "data": {
      "text/plain": [
       "(DecisionTreeClassifier(ccp_alpha=0.0, class_weight=None, criterion='gini',\n",
       "                        max_depth=7, max_features=13, max_leaf_nodes=None,\n",
       "                        min_impurity_decrease=0.0, min_impurity_split=None,\n",
       "                        min_samples_leaf=1, min_samples_split=2,\n",
       "                        min_weight_fraction_leaf=0.0, presort='deprecated',\n",
       "                        random_state=None, splitter='best'),\n",
       " 0.3076923076923077)"
      ]
     },
     "execution_count": 27,
     "metadata": {},
     "output_type": "execute_result"
    }
   ],
   "source": [
    "from sklearn.tree import DecisionTreeClassifier\n",
    "\n",
    "tree= DecisionTreeClassifier()\n",
    "\n",
    "tree_params = {'max_depth':range(1,11),'max_features':range(4,19)}\n",
    "tree_grid = GridSearchCV(tree,tree_params,cv=skf,n_jobs=-1,verbose=True)\n",
    "tree_grid.fit(X_train_last,y_train)\n",
    "tree_grid.best_estimator_ , tree_grid.best_score_"
   ]
  },
  {
   "cell_type": "code",
   "execution_count": 28,
   "metadata": {
    "colab": {
     "base_uri": "https://localhost:8080/",
     "height": 119
    },
    "colab_type": "code",
    "id": "G72vFULDMobr",
    "outputId": "8f20e1fe-3149-4f43-9601-51ca19538027"
   },
   "outputs": [],
   "source": [
    "rec_tracks=[]\n",
    "\n",
    "for i in playlist_df['id'].values.tolist():\n",
    "  rec_tracks += sp.recommendations(seed_tracks=[i],limit = int(len(playlist_df)/2))['tracks'];\n",
    "  \n",
    "\n",
    "rec_track_ids=[]\n",
    "rec_track_names = []\n",
    "for i in rec_tracks:\n",
    "  rec_track_ids.append(i['id'])\n",
    "  rec_track_names.append(i['name'])\n",
    "  \n",
    "\n",
    "rec_features=[]\n",
    "\n",
    "for i in range(0,len(rec_track_ids)):\n",
    "  rec_audio_features = sp.audio_features(rec_track_ids[i])\n",
    "  for track in rec_audio_features:\n",
    "    rec_features.append(track)\n",
    "    \n",
    "    \n",
    "rec_playlist_df= pd.DataFrame(rec_features,index = rec_track_ids)"
   ]
  },
  {
   "cell_type": "code",
   "execution_count": 29,
   "metadata": {
    "colab": {},
    "colab_type": "code",
    "id": "nb6EFMlUTuZ1"
   },
   "outputs": [],
   "source": [
    "rec_playlist_df = rec_playlist_df[[\"acousticness\", \"danceability\", \"duration_ms\", \"energy\", \"instrumentalness\",  \"key\", \"liveness\", \"loudness\", \"mode\", \"speechiness\", \"tempo\", \"valence\"]]"
   ]
  },
  {
   "cell_type": "code",
   "execution_count": 30,
   "metadata": {
    "colab": {},
    "colab_type": "code",
    "id": "fsL5Vw46UVT0"
   },
   "outputs": [],
   "source": [
    "tree_grid.best_estimator_.fit(X_train_last,y_train)\n",
    "rec_playlist_df_scaled = StandardScaler().fit_transform(rec_playlist_df)\n",
    "X_test_pca  = pca.transform(rec_playlist_df_scaled)\n",
    "X_test_names = v.transform(rec_track_names)\n",
    "X_test_last = csr_matrix(hstack([X_test_pca,X_test_names]))\n",
    "y_pred_class = tree_grid.best_estimator_.predict(X_test_last)"
   ]
  },
  {
   "cell_type": "code",
   "execution_count": 31,
   "metadata": {
    "colab": {},
    "colab_type": "code",
    "id": "N4TAkd8WWPUa"
   },
   "outputs": [],
   "source": [
    "rec_playlist_df['ratings']=y_pred_class\n",
    "rec_playlist_df = rec_playlist_df.sort_values('ratings',ascending=False)\n",
    "rec_playlist_df = rec_playlist_df.reset_index()\n",
    "\n",
    "recs_to_add = rec_playlist_df[rec_playlist_df['ratings']>=9]['index'].values.tolist()"
   ]
  },
  {
   "cell_type": "code",
   "execution_count": 32,
   "metadata": {
    "colab": {},
    "colab_type": "code",
    "id": "LaUCBoe8XOS_"
   },
   "outputs": [],
   "source": [
    "playlist_recs =sp.user_playlist_create(username,name='P24 Recommended Songs')"
   ]
  },
  {
   "cell_type": "code",
   "execution_count": 33,
   "metadata": {
    "colab": {
     "base_uri": "https://localhost:8080/",
     "height": 459
    },
    "colab_type": "code",
    "id": "eauEBKtPdiJw",
    "outputId": "be5c6081-501b-4121-e1ae-073cc129e772",
    "scrolled": true
   },
   "outputs": [
    {
     "data": {
      "text/plain": [
       "{'collaborative': False,\n",
       " 'description': '',\n",
       " 'external_urls': {'spotify': 'https://open.spotify.com/playlist/0mDrCHfvSOaD8pmelYIoPs'},\n",
       " 'followers': {'href': None, 'total': 0},\n",
       " 'href': 'https://api.spotify.com/v1/playlists/0mDrCHfvSOaD8pmelYIoPs',\n",
       " 'id': '0mDrCHfvSOaD8pmelYIoPs',\n",
       " 'images': [],\n",
       " 'name': 'P24 Recommended Songs',\n",
       " 'owner': {'display_name': 'Ankush Grover',\n",
       "  'external_urls': {'spotify': 'https://open.spotify.com/user/31fcf75braqovpjvblva32z3aq5e'},\n",
       "  'href': 'https://api.spotify.com/v1/users/31fcf75braqovpjvblva32z3aq5e',\n",
       "  'id': '31fcf75braqovpjvblva32z3aq5e',\n",
       "  'type': 'user',\n",
       "  'uri': 'spotify:user:31fcf75braqovpjvblva32z3aq5e'},\n",
       " 'primary_color': None,\n",
       " 'public': True,\n",
       " 'snapshot_id': 'MSw4Yzk1NjA3YWNiNjZhZWJmMDg2MjI2MTFlMDhiNjdiMWEyMmE5MDc3',\n",
       " 'tracks': {'href': 'https://api.spotify.com/v1/playlists/0mDrCHfvSOaD8pmelYIoPs/tracks',\n",
       "  'items': [],\n",
       "  'limit': 100,\n",
       "  'next': None,\n",
       "  'offset': 0,\n",
       "  'previous': None,\n",
       "  'total': 0},\n",
       " 'type': 'playlist',\n",
       " 'uri': 'spotify:playlist:0mDrCHfvSOaD8pmelYIoPs'}"
      ]
     },
     "execution_count": 33,
     "metadata": {},
     "output_type": "execute_result"
    }
   ],
   "source": [
    "playlist_recs"
   ]
  },
  {
   "cell_type": "code",
   "execution_count": 34,
   "metadata": {},
   "outputs": [],
   "source": [
    "if len(recs_to_add)>100:\n",
    "    recs_to_add = recs_to_add[:100]"
   ]
  },
  {
   "cell_type": "code",
   "execution_count": 35,
   "metadata": {
    "colab": {},
    "colab_type": "code",
    "id": "Pjp8b-vWXibE",
    "scrolled": true
   },
   "outputs": [],
   "source": [
    "sp.user_playlist_add_tracks(username,playlist_recs['id'],recs_to_add);"
   ]
  },
  {
   "cell_type": "code",
   "execution_count": 36,
   "metadata": {},
   "outputs": [
    {
     "data": {
      "text/plain": [
       "18"
      ]
     },
     "execution_count": 36,
     "metadata": {},
     "output_type": "execute_result"
    }
   ],
   "source": [
    "len(recs_to_add)"
   ]
  },
  {
   "cell_type": "code",
   "execution_count": null,
   "metadata": {},
   "outputs": [],
   "source": []
  },
  {
   "cell_type": "code",
   "execution_count": null,
   "metadata": {},
   "outputs": [],
   "source": []
  }
 ],
 "metadata": {
  "accelerator": "GPU",
  "colab": {
   "include_colab_link": true,
   "name": "Spotify Recommendation System .ipynb",
   "provenance": [],
   "version": "0.3.2"
  },
  "kernelspec": {
   "display_name": "Python 3",
   "language": "python",
   "name": "python3"
  },
  "language_info": {
   "codemirror_mode": {
    "name": "ipython",
    "version": 3
   },
   "file_extension": ".py",
   "mimetype": "text/x-python",
   "name": "python",
   "nbconvert_exporter": "python",
   "pygments_lexer": "ipython3",
   "version": "3.7.6"
  }
 },
 "nbformat": 4,
 "nbformat_minor": 1
}
